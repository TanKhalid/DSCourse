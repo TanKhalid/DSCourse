{
 "cells": [
  {
   "cell_type": "markdown",
   "metadata": {},
   "source": [
    "<center>\n",
    "    <img src=\"https://cf-courses-data.s3.us.cloud-object-storage.appdomain.cloud/IBMDeveloperSkillsNetwork-DS0105EN-SkillsNetwork/labs/Module2/images/SN_web_lightmode.png\" width=\"300\" alt=\"cognitiveclass.ai logo\">\n",
    "</center>\n"
   ]
  },
  {
   "cell_type": "markdown",
   "metadata": {},
   "source": [
    "#### Add your code below following the instructions given in the course\n"
   ]
  },
  {
   "cell_type": "markdown",
   "metadata": {},
   "source": [
    "#### <h1> Data Science Tools and Ecosystem </h1>\n"
   ]
  },
  {
   "cell_type": "markdown",
   "metadata": {},
   "source": [
    "#### This is an introduction for my submission, the following will be the answers numbered 3-13\n"
   ]
  },
  {
   "cell_type": "markdown",
   "metadata": {},
   "source": [
    "#### 4- Data science languages include: <ol><li>Pyhon</li> <li>R</li><li>SQL</li></ol>\n"
   ]
  },
  {
   "cell_type": "markdown",
   "metadata": {
    "jp-MarkdownHeadingCollapsed": true,
    "tags": []
   },
   "source": [
    "#### 5- Data science libraries include: <ol> <li> Pandas</li> <li>NumPy </li><li>Matplotlib</li> <li>seaborn</li> <li>scikit-learn </li><li>keras </li><li>tensorflow</li> <li>pytorch</li><li>apache spark</li></ol>\n"
   ]
  },
  {
   "cell_type": "markdown",
   "metadata": {},
   "source": [
    "#### 6- Data science tools include: <ol> <li>R</li> <li>RStudio</li> <li>Jupyter Notebook</li> <li>Jupyter lab.</li></ol>"
   ]
  },
  {
   "cell_type": "markdown",
   "metadata": {},
   "source": [
    "\n",
    "#### 7- Introduction to Arithmetic Expressions\n",
    "\n",
    "<h3> Here are a few examples to illustrate basic arithmetic expressions: </h3>\n",
    "\n",
    "1. **Addition**: `3 + 5`  \n",
    "   Adds two numbers together. The result is `8`.\n",
    "\n",
    "2. **Subtraction**: `10 - 4`  \n",
    "   Subtracts one number from another. The result is `6`.\n",
    "\n",
    "3. **Multiplication**: `7 * 6`  \n",
    "   Multiplies two numbers. The result is `42`.\n",
    "\n",
    "4. **Division**: `20 / 4`  \n",
    "   Divides one number by another. The result is `5`.\n",
    "\n",
    "5. **Exponentiation**: `2 ^ 3` or `2 ** 3` (depending on the language)  \n",
    "   Raises a number to the power of another. The result is `8`.\n",
    "\n",
    "6. **Parentheses**: `(2 + 3) * 4`  \n",
    "   Alters the order of operations by grouping expressions. The result is `20` (since `2 + 3` is evaluated first, then multiplied by `4`).\n",
    "\n",
    "These expressions are used in various fields, including programming, engineering, and data analysis, to perform calculations and solve problems.\n"
   ]
  },
  {
   "cell_type": "code",
   "execution_count": 5,
   "metadata": {
    "tags": []
   },
   "outputs": [
    {
     "data": {
      "text/plain": [
       "(15, 22)"
      ]
     },
     "execution_count": 5,
     "metadata": {},
     "output_type": "execute_result"
    }
   ],
   "source": [
    "#### 8-\n",
    "# Define numbers\n",
    "a = 5\n",
    "b = 3\n",
    "c = 7\n",
    "\n",
    "# Perform multiplication\n",
    "multiplication_result = a * b\n",
    "\n",
    "# Perform addition\n",
    "addition_result = multiplication_result + c\n",
    "\n",
    "# Display the results\n",
    "multiplication_result, addition_result"
   ]
  },
  {
   "cell_type": "code",
   "execution_count": 4,
   "metadata": {
    "tags": []
   },
   "outputs": [
    {
     "data": {
      "text/plain": [
       "2.5"
      ]
     },
     "execution_count": 4,
     "metadata": {},
     "output_type": "execute_result"
    }
   ],
   "source": [
    "#### 9-\n",
    "# Function to convert minutes to hours\n",
    "def minutes_to_hours(minutes):\n",
    "    hours = minutes / 60\n",
    "    return hours\n",
    "\n",
    "# Example usage\n",
    "minutes = 150  # You can change this value to test with different minutes\n",
    "hours = minutes_to_hours(minutes)\n",
    "\n",
    "hours"
   ]
  },
  {
   "cell_type": "markdown",
   "metadata": {},
   "source": [
    "\n",
    "#### <b>10: Objectives:</b>\n",
    "<ul>\n",
    "    \n",
    "<li> List data science languages.</li>\n",
    "\n",
    "<li>List data science tools.</li>\n",
    "\n",
    "<li>List data science libraries</li>\n",
    "\n",
    "</ul>"
   ]
  },
  {
   "cell_type": "markdown",
   "metadata": {},
   "source": [
    "\n",
    "#### 11: <h2>Author : Khaled Tantawi\n"
   ]
  },
  {
   "cell_type": "markdown",
   "metadata": {},
   "source": [
    "\n",
    "#### 12: Github Link: \n"
   ]
  },
  {
   "cell_type": "markdown",
   "metadata": {},
   "source": [
    "\n"
   ]
  }
 ],
 "metadata": {
  "kernelspec": {
   "display_name": "Python",
   "language": "python",
   "name": "conda-env-python-py"
  },
  "language_info": {
   "codemirror_mode": {
    "name": "ipython",
    "version": 3
   },
   "file_extension": ".py",
   "mimetype": "text/x-python",
   "name": "python",
   "nbconvert_exporter": "python",
   "pygments_lexer": "ipython3",
   "version": "3.7.12"
  }
 },
 "nbformat": 4,
 "nbformat_minor": 4
}
