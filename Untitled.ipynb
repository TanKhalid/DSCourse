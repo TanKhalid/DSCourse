{
 "cells": [
  {
   "cell_type": "code",
   "execution_count": 4,
   "id": "86f52df2",
   "metadata": {},
   "outputs": [
    {
     "name": "stderr",
     "output_type": "stream",
     "text": [
      "\r",
      "[*********************100%***********************]  1 of 1 completed"
     ]
    },
    {
     "name": "stdout",
     "output_type": "stream",
     "text": [
      "        Date      Open      High       Low     Close  Adj Close     Volume\n",
      "0 2010-06-29  1.266667  1.666667  1.169333  1.592667   1.592667  281494500\n",
      "1 2010-06-30  1.719333  2.028000  1.553333  1.588667   1.588667  257806500\n",
      "2 2010-07-01  1.666667  1.728000  1.351333  1.464000   1.464000  123282000\n",
      "3 2010-07-02  1.533333  1.540000  1.247333  1.280000   1.280000   77097000\n",
      "4 2010-07-06  1.333333  1.333333  1.055333  1.074000   1.074000  103003500\n"
     ]
    },
    {
     "name": "stderr",
     "output_type": "stream",
     "text": [
      "\n"
     ]
    }
   ],
   "source": [
    "import yfinance as yf\n",
    "\n",
    "# Define the Tesla ticker symbol\n",
    "tesla_ticker = 'TSLA'\n",
    "\n",
    "# Download Tesla stock data\n",
    "tesla_data = yf.download(tesla_ticker)\n",
    "\n",
    "# Reset the index\n",
    "tesla_data.reset_index(inplace=True)\n",
    "\n",
    "# Save the data to a CSV file\n",
    "tesla_data.to_csv('tesla_stock_data.csv', index=False)\n",
    "\n",
    "# Display the first five rows of the dataframe\n",
    "print(tesla_data.head())"
   ]
  },
  {
   "cell_type": "code",
   "execution_count": 18,
   "id": "3081ea34",
   "metadata": {},
   "outputs": [
    {
     "name": "stdout",
     "output_type": "stream",
     "text": [
      "    Date  Revenue\n",
      "10  2013     2013\n",
      "11  2012      413\n",
      "12  2011      204\n",
      "13  2010      117\n",
      "14  2009      112\n"
     ]
    }
   ],
   "source": [
    "import requests\n",
    "from bs4 import BeautifulSoup\n",
    "import pandas as pd\n",
    "\n",
    "# URL for Tesla financial data (can change depending on the source)\n",
    "url = \"https://www.macrotrends.net/stocks/charts/TSLA/tesla/revenue\"\n",
    "headers = {\n",
    "    \"User-Agent\": \"Mozilla/5.0 (Windows NT 10.0; Win64; x64) AppleWebKit/537.36 (KHTML, like Gecko) Chrome/91.0.4472.124 Safari/537.36\"\n",
    "}\n",
    "response = requests.get(url, headers=headers)\n",
    "# Parse the content with BeautifulSoup\n",
    "soup = BeautifulSoup(response.text, 'html.parser')\n",
    "\n",
    "# Find the table containing the Tesla revenue data\n",
    "table = soup.find_all('table', {\"class\": \"historical_data_table table\"})\n",
    "\n",
    "# Extract rows from the table\n",
    "rows = table[0].find_all('tr')\n",
    "\n",
    "# Create empty lists to hold the data\n",
    "dates = []\n",
    "revenues = []\n",
    "\n",
    "# Loop through the rows and extract date and revenue data\n",
    "for row in rows[1:]:\n",
    "    cols = row.find_all('td')\n",
    "    date = cols[0].text\n",
    "    revenue = cols[1].text.replace('$', '').replace(',', '').strip()\n",
    "    \n",
    "    dates.append(date)\n",
    "    revenues.append(revenue)\n",
    "\n",
    "# Create a DataFrame\n",
    "tesla_revenue = pd.DataFrame({\n",
    "    'Date': dates,\n",
    "    'Revenue': revenues\n",
    "})\n",
    "\n",
    "# Clean the data - remove any empty rows\n",
    "tesla_revenue = tesla_revenue[tesla_revenue['Revenue'] != '']\n",
    "\n",
    "# Convert 'Revenue' column to numeric\n",
    "tesla_revenue['Revenue'] = pd.to_numeric(tesla_revenue['Revenue'], errors='coerce')\n",
    "\n",
    "# Display the last five rows of the tesla_revenue DataFrame\n",
    "print(tesla_revenue.tail())\n"
   ]
  },
  {
   "cell_type": "code",
   "execution_count": 13,
   "id": "df0a1ffe",
   "metadata": {},
   "outputs": [
    {
     "name": "stderr",
     "output_type": "stream",
     "text": [
      "\r",
      "[*********************100%***********************]  1 of 1 completed"
     ]
    },
    {
     "name": "stdout",
     "output_type": "stream",
     "text": [
      "        Date     Open     High      Low    Close  Adj Close    Volume\n",
      "0 2002-02-13  2.40625  2.51500  2.38125  2.51250   1.691667  76216000\n",
      "1 2002-02-14  2.54375  2.54875  2.48125  2.50000   1.683250  11021600\n",
      "2 2002-02-15  2.50000  2.50625  2.46250  2.48750   1.674833   8389600\n",
      "3 2002-02-19  2.47500  2.47500  2.34375  2.38750   1.607504   7410400\n",
      "4 2002-02-20  2.40000  2.46875  2.38125  2.46875   1.662209   6892800\n"
     ]
    },
    {
     "name": "stderr",
     "output_type": "stream",
     "text": [
      "\n"
     ]
    }
   ],
   "source": [
    "import yfinance as yf\n",
    "\n",
    "# Define the GameStop ticker symbol\n",
    "gme_ticker = 'GME'\n",
    "\n",
    "# Download GameStop stock data\n",
    "gme_data = yf.download(gme_ticker)\n",
    "\n",
    "# Reset the index\n",
    "gme_data.reset_index(inplace=True)\n",
    "\n",
    "# Display the first five rows of the dataframe\n",
    "print(gme_data.head())\n"
   ]
  },
  {
   "cell_type": "code",
   "execution_count": 19,
   "id": "dde52c52",
   "metadata": {},
   "outputs": [
    {
     "name": "stdout",
     "output_type": "stream",
     "text": [
      "    Date  Revenue\n",
      "11  2013     8887\n",
      "12  2012     9551\n",
      "13  2011     9474\n",
      "14  2010     9078\n",
      "15  2009     8806\n"
     ]
    }
   ],
   "source": [
    "import requests\n",
    "from bs4 import BeautifulSoup\n",
    "import pandas as pd\n",
    "\n",
    "# URL for Tesla financial data (can change depending on the source)\n",
    "url = \"https://www.macrotrends.net/stocks/charts/GME/gamestop/revenue\"\n",
    "headers = {\n",
    "    \"User-Agent\": \"Mozilla/5.0 (Windows NT 10.0; Win64; x64) AppleWebKit/537.36 (KHTML, like Gecko) Chrome/91.0.4472.124 Safari/537.36\"\n",
    "}\n",
    "response = requests.get(url, headers=headers)\n",
    "# Parse the content with BeautifulSoup\n",
    "soup = BeautifulSoup(response.text, 'html.parser')\n",
    "\n",
    "# Find the table containing the Tesla revenue data\n",
    "table = soup.find_all('table', {\"class\": \"historical_data_table table\"})\n",
    "\n",
    "# Extract rows from the table\n",
    "rows = table[0].find_all('tr')\n",
    "\n",
    "# Create empty lists to hold the data\n",
    "dates = []\n",
    "revenues = []\n",
    "\n",
    "# Loop through the rows and extract date and revenue data\n",
    "for row in rows[1:]:\n",
    "    cols = row.find_all('td')\n",
    "    date = cols[0].text\n",
    "    revenue = cols[1].text.replace('$', '').replace(',', '').strip()\n",
    "    \n",
    "    dates.append(date)\n",
    "    revenues.append(revenue)\n",
    "\n",
    "# Create a DataFrame\n",
    "gme_revenue = pd.DataFrame({\n",
    "    'Date': dates,\n",
    "    'Revenue': revenues\n",
    "})\n",
    "\n",
    "# Clean the data - remove any empty rows\n",
    "gme_revenue = gme_revenue[gme_revenue['Revenue'] != '']\n",
    "\n",
    "# Convert 'Revenue' column to numeric\n",
    "gme_revenue['Revenue'] = pd.to_numeric(gme_revenue['Revenue'], errors='coerce')\n",
    "\n",
    "# Display the last five rows of the tesla_revenue DataFrame\n",
    "print(gme_revenue.tail())\n"
   ]
  },
  {
   "cell_type": "code",
   "execution_count": 21,
   "id": "40253ac3",
   "metadata": {},
   "outputs": [
    {
     "name": "stderr",
     "output_type": "stream",
     "text": [
      "[*********************100%***********************]  1 of 1 completed\n"
     ]
    },
    {
     "data": {
      "image/png": "[encoded data removed]",
      "text/plain": [
       "<Figure size 720x432 with 1 Axes>"
      ]
     },
     "metadata": {
      "needs_background": "light"
     },
     "output_type": "display_data"
    }
   ],
   "source": [
    "import yfinance as yf\n",
    "import matplotlib.pyplot as plt\n",
    "\n",
    "# Download Tesla stock data\n",
    "tesla_data = yf.download('TSLA')\n",
    "\n",
    "# Define the make_graph function to plot stock data\n",
    "def make_graph(stock_data, title):\n",
    "    plt.figure(figsize=(10,6))\n",
    "    \n",
    "    # Convert index and 'Close' column to numpy arrays\n",
    "    dates = stock_data.index.values\n",
    "    close_prices = stock_data['Close'].values\n",
    "    \n",
    "    # Plot the data\n",
    "    plt.plot(dates, close_prices, label='Close Price')\n",
    "    \n",
    "    # Add title and labels\n",
    "    plt.title(title)\n",
    "    plt.xlabel('Date')\n",
    "    plt.ylabel('Stock Price (USD)')\n",
    "    plt.legend()\n",
    "    plt.grid(True)\n",
    "    \n",
    "    # Show the plot\n",
    "    plt.show()\n",
    "\n",
    "# Use the function to plot Tesla stock data\n",
    "make_graph(tesla_data, \"Tesla Stock Price Over Time\")\n"
   ]
  },
  {
   "cell_type": "code",
   "execution_count": 23,
   "id": "8ffc5fcc",
   "metadata": {},
   "outputs": [
    {
     "data": {
      "image/png": "[encoded data removed]",
      "text/plain": [
       "<Figure size 720x360 with 1 Axes>"
      ]
     },
     "metadata": {
      "needs_background": "light"
     },
     "output_type": "display_data"
    }
   ],
   "source": [
    "import pandas as pd\n",
    "import matplotlib.pyplot as plt\n",
    "\n",
    "# Sample GameStop stock data\n",
    "data = {\n",
    "    'Date': ['2021-01-01', '2021-01-02', '2021-01-03', '2021-01-04', '2021-01-05'],\n",
    "    'Close': [20.0, 18.0, 19.0, 25.0, 30.0]\n",
    "}\n",
    "\n",
    "# Create a DataFrame\n",
    "gme_data = pd.DataFrame(data)\n",
    "gme_data['Date'] = pd.to_datetime(gme_data['Date'])\n",
    "\n",
    "# Define the make_graph function\n",
    "def make_graph(data, title):\n",
    "    plt.figure(figsize=(10, 5))\n",
    "    plt.plot(data['Date'].values, data['Close'].values, marker='o', linestyle='-')  # Convert to NumPy arrays\n",
    "    plt.title(title)\n",
    "    plt.xlabel('Date')\n",
    "    plt.ylabel('Closing Price (USD)')\n",
    "    plt.xticks(rotation=45)\n",
    "    plt.grid()\n",
    "    plt.tight_layout()\n",
    "    plt.show()\n",
    "\n",
    "# Call the function with the GameStop data and a title\n",
    "make_graph(gme_data, \"GameStop Stock Price Over Time\")\n"
   ]
  },
  {
   "cell_type": "code",
   "execution_count": null,
   "id": "a361e11c",
   "metadata": {},
   "outputs": [],
   "source": []
  }
 ],
 "metadata": {
  "kernelspec": {
   "display_name": "Python 3",
   "language": "python",
   "name": "python3"
  },
  "language_info": {
   "codemirror_mode": {
    "name": "ipython",
    "version": 3
   },
   "file_extension": ".py",
   "mimetype": "text/x-python",
   "name": "python",
   "nbconvert_exporter": "python",
   "pygments_lexer": "ipython3",
   "version": "3.8.8"
  }
 },
 "nbformat": 4,
 "nbformat_minor": 5
}
